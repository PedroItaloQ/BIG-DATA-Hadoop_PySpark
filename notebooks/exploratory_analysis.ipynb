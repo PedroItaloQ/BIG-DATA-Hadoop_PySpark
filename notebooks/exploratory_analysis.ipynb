{
 "cells": [
  {
   "cell_type": "code",
   "execution_count": null,
   "metadata": {},
   "outputs": [],
   "source": [
    "import pandas as pd\n",
    "\n",
    "# Carregar dados locais para análise exploratória\n",
    "df = pd.read_csv(\"../data/raw/data.csv\")\n",
    "\n",
    "# Exibir estatísticas descritivas\n",
    "df.describe()\n",
    "\n",
    "# Plotar um gráfico\n",
    "df.groupby('category')['sales'].sum().plot(kind='bar')"
   ]
  }
 ],
 "metadata": {
  "language_info": {
   "name": "python"
  }
 },
 "nbformat": 4,
 "nbformat_minor": 2
}
